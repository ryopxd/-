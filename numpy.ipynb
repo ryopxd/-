{
  "nbformat": 4,
  "nbformat_minor": 0,
  "metadata": {
    "colab": {
      "name": "numpy.ipynb",
      "provenance": [],
      "authorship_tag": "ABX9TyN6oBhtpY/kISS+67xzYI+R",
      "include_colab_link": true
    },
    "kernelspec": {
      "name": "python3",
      "display_name": "Python 3"
    },
    "language_info": {
      "name": "python"
    }
  },
  "cells": [
    {
      "cell_type": "markdown",
      "metadata": {
        "id": "view-in-github",
        "colab_type": "text"
      },
      "source": [
        "<a href=\"https://colab.research.google.com/github/ryopxd/data-analysis/blob/main/numpy.ipynb\" target=\"_parent\"><img src=\"https://colab.research.google.com/assets/colab-badge.svg\" alt=\"Open In Colab\"/></a>"
      ]
    },
    {
      "cell_type": "markdown",
      "source": [
        "# numpy 기초 사용법"
      ],
      "metadata": {
        "id": "wxAdpd04yp-U"
      }
    },
    {
      "cell_type": "code",
      "execution_count": null,
      "metadata": {
        "id": "o609JhrQisfl"
      },
      "outputs": [],
      "source": [
        "import numpy as np\n",
        "\n",
        "list_data = [1, 2, 3]\n",
        "array = np.array(list_data)"
      ]
    },
    {
      "cell_type": "code",
      "source": [
        "print(array.size)\n",
        "print(array.dtype)\n",
        "print(array[2])"
      ],
      "metadata": {
        "colab": {
          "base_uri": "https://localhost:8080/"
        },
        "id": "u3PVG6T7jBkt",
        "outputId": "9425e4cd-da0d-487b-c867-2929391f57ea"
      },
      "execution_count": null,
      "outputs": [
        {
          "output_type": "stream",
          "name": "stdout",
          "text": [
            "3\n",
            "int64\n",
            "3\n"
          ]
        }
      ]
    },
    {
      "cell_type": "code",
      "source": [
        "# 0부터 3까지의 배열 만들기\n",
        "array1 = np.arange(4)\n",
        "print(array1)"
      ],
      "metadata": {
        "colab": {
          "base_uri": "https://localhost:8080/"
        },
        "id": "kvhIdcoPjTYF",
        "outputId": "29f28495-d71f-445a-ba83-dd10c9212c97"
      },
      "execution_count": null,
      "outputs": [
        {
          "output_type": "stream",
          "name": "stdout",
          "text": [
            "[0 1 2 3]\n"
          ]
        }
      ]
    },
    {
      "cell_type": "code",
      "source": [
        "array2 = np.zeros((4, 4), dtype = float)\n",
        "print(array2)"
      ],
      "metadata": {
        "colab": {
          "base_uri": "https://localhost:8080/"
        },
        "id": "98tE7cQ5j5zG",
        "outputId": "7d11deb6-fd25-4b78-93d5-654d4dff7279"
      },
      "execution_count": null,
      "outputs": [
        {
          "output_type": "stream",
          "name": "stdout",
          "text": [
            "[[0. 0. 0. 0.]\n",
            " [0. 0. 0. 0.]\n",
            " [0. 0. 0. 0.]\n",
            " [0. 0. 0. 0.]]\n"
          ]
        }
      ]
    },
    {
      "cell_type": "code",
      "source": [
        "array3 = np.ones((3, 3), dtype = str)\n",
        "print(array3)"
      ],
      "metadata": {
        "colab": {
          "base_uri": "https://localhost:8080/"
        },
        "id": "4D_-KqbPkmz1",
        "outputId": "d9f4bc28-e308-415f-908a-34afcd48209f"
      },
      "execution_count": null,
      "outputs": [
        {
          "output_type": "stream",
          "name": "stdout",
          "text": [
            "[['1' '1' '1']\n",
            " ['1' '1' '1']\n",
            " ['1' '1' '1']]\n"
          ]
        }
      ]
    },
    {
      "cell_type": "code",
      "source": [
        "# 0부터 9까지 랜덤하게 초기화된 배열 만들기\n",
        "array4 = np.random.randint(1, 10, (3, 3))\n",
        "print(array4)"
      ],
      "metadata": {
        "colab": {
          "base_uri": "https://localhost:8080/"
        },
        "id": "z2ppg3xxlb3c",
        "outputId": "20e9407c-97c1-466b-ecd4-0addcf0ecc69"
      },
      "execution_count": null,
      "outputs": [
        {
          "output_type": "stream",
          "name": "stdout",
          "text": [
            "[[8 5 8]\n",
            " [9 7 5]\n",
            " [6 1 1]]\n"
          ]
        }
      ]
    },
    {
      "cell_type": "code",
      "source": [
        "# 평균이 0이고, 표준편차가 1인 표준 정규를 띄는 배열\n",
        "array5 = np.random.normal(0, 1, (3, 3))\n",
        "print(array5)"
      ],
      "metadata": {
        "colab": {
          "base_uri": "https://localhost:8080/"
        },
        "id": "AvFI5NJ0td5w",
        "outputId": "5cc89e4f-4095-4fc9-c591-1afc0cd1756b"
      },
      "execution_count": null,
      "outputs": [
        {
          "output_type": "stream",
          "name": "stdout",
          "text": [
            "[[-0.14637582 -0.13734389  0.12192027]\n",
            " [-2.70795188 -1.64781    -0.7495966 ]\n",
            " [ 0.38009493 -0.15251082 -1.5730093 ]]\n"
          ]
        }
      ]
    },
    {
      "cell_type": "code",
      "source": [
        "array1 = np.array([1, 2, 3])\n",
        "array2 = np.array([4, 5, 6])\n",
        "array3 = np.concatenate([array1, array2])\n",
        "\n",
        "print(array3.shape)\n",
        "print(array3)"
      ],
      "metadata": {
        "colab": {
          "base_uri": "https://localhost:8080/"
        },
        "id": "hYwfuTY6uoJq",
        "outputId": "6ac2e94b-b2f9-4bc6-a891-adaa24b7d893"
      },
      "execution_count": null,
      "outputs": [
        {
          "output_type": "stream",
          "name": "stdout",
          "text": [
            "(6,)\n",
            "[1 2 3 4 5 6]\n"
          ]
        }
      ]
    },
    {
      "cell_type": "code",
      "source": [
        "array1 = np.array([1, 2, 3, 4])\n",
        "array2 = array1.reshape((2, 2))\n",
        "\n",
        "print(array2)"
      ],
      "metadata": {
        "colab": {
          "base_uri": "https://localhost:8080/"
        },
        "id": "YyOMXHCEvGb5",
        "outputId": "5964f2b2-e384-4197-ae03-9a19a147bd09"
      },
      "execution_count": null,
      "outputs": [
        {
          "output_type": "stream",
          "name": "stdout",
          "text": [
            "[[1 2]\n",
            " [3 4]]\n"
          ]
        }
      ]
    },
    {
      "cell_type": "code",
      "source": [
        "array1 = np.arange(4).reshape(1, 4)\n",
        "array2 = np.arange(8).reshape(2, 4)\n",
        "\n",
        "print(array1)\n",
        "print(array2)\n",
        "\n",
        "array3 = np.concatenate([array1, array2], axis = 0)\n",
        "print(array3)"
      ],
      "metadata": {
        "colab": {
          "base_uri": "https://localhost:8080/"
        },
        "id": "xV9CrbnMvkWB",
        "outputId": "886d4508-ec54-450a-c425-42b1dc940fb5"
      },
      "execution_count": null,
      "outputs": [
        {
          "output_type": "stream",
          "name": "stdout",
          "text": [
            "[[0 1 2 3]]\n",
            "[[0 1 2 3]\n",
            " [4 5 6 7]]\n",
            "[[0 1 2 3]\n",
            " [0 1 2 3]\n",
            " [4 5 6 7]]\n"
          ]
        }
      ]
    },
    {
      "cell_type": "code",
      "source": [
        "array = np.arange(8).reshape(2, 4)\n",
        "left, right = np.split(array, [2], axis = 1)\n",
        "\n",
        "print(left.shape)\n",
        "print(right.shape)\n",
        "print(array)\n",
        "print(left)\n",
        "print(right[1][1])"
      ],
      "metadata": {
        "colab": {
          "base_uri": "https://localhost:8080/"
        },
        "id": "j3HTGYipwQ9x",
        "outputId": "a5e23a2f-9973-4259-8145-b934c035123d"
      },
      "execution_count": null,
      "outputs": [
        {
          "output_type": "stream",
          "name": "stdout",
          "text": [
            "(2, 2)\n",
            "(2, 2)\n",
            "[[0 1 2 3]\n",
            " [4 5 6 7]]\n",
            "[[0 1]\n",
            " [4 5]]\n",
            "7\n"
          ]
        }
      ]
    },
    {
      "cell_type": "markdown",
      "source": [
        "# numpy의 기본 연산"
      ],
      "metadata": {
        "id": "dU0lSkt-ywUD"
      }
    },
    {
      "cell_type": "code",
      "source": [
        "import numpy as np\n",
        "\n",
        "array = np.random.randint(1, 10, size = 4).reshape(2, 2)\n",
        "print(array)"
      ],
      "metadata": {
        "colab": {
          "base_uri": "https://localhost:8080/"
        },
        "id": "ZaTAIHrsxkxo",
        "outputId": "f71b00d0-2974-4226-9934-1e6cebeebe45"
      },
      "execution_count": null,
      "outputs": [
        {
          "output_type": "stream",
          "name": "stdout",
          "text": [
            "[[6 9]\n",
            " [5 8]]\n"
          ]
        }
      ]
    },
    {
      "cell_type": "code",
      "source": [
        "result_array = array * 10\n",
        "print(result_array)"
      ],
      "metadata": {
        "colab": {
          "base_uri": "https://localhost:8080/"
        },
        "id": "EQ9YTMdizIPn",
        "outputId": "ba1356ce-2018-4e40-8554-a09cc19f5226"
      },
      "execution_count": null,
      "outputs": [
        {
          "output_type": "stream",
          "name": "stdout",
          "text": [
            "[[60 90]\n",
            " [50 80]]\n"
          ]
        }
      ]
    },
    {
      "cell_type": "code",
      "source": [
        "array1 = np.arange(4).reshape(2,2)\n",
        "array2 = np.arange(2)\n",
        "\n",
        "array3 = array1 + array2\n",
        "print(array3)"
      ],
      "metadata": {
        "colab": {
          "base_uri": "https://localhost:8080/"
        },
        "id": "iPmzA-18zPA4",
        "outputId": "3a6b0b77-f85c-4b25-915a-de6fd53e0f0f"
      },
      "execution_count": null,
      "outputs": [
        {
          "output_type": "stream",
          "name": "stdout",
          "text": [
            "[[0 2]\n",
            " [2 4]]\n"
          ]
        }
      ]
    },
    {
      "cell_type": "code",
      "source": [
        "array1 = np.arange(8).reshape(2,4)\n",
        "array2 = np.arange(8).reshape(2,4)\n",
        "array3 = np.concatenate([array1, array2], axis = 0)\n",
        "array4 = np.arange(0, 4).reshape(4, 1)\n",
        "\n",
        "print(array3 + array4)"
      ],
      "metadata": {
        "colab": {
          "base_uri": "https://localhost:8080/"
        },
        "id": "nMxyl8Xqz4mn",
        "outputId": "006bcf78-3786-4e81-9005-d5f88046b595"
      },
      "execution_count": null,
      "outputs": [
        {
          "output_type": "stream",
          "name": "stdout",
          "text": [
            "[[ 0  1  2  3]\n",
            " [ 5  6  7  8]\n",
            " [ 2  3  4  5]\n",
            " [ 7  8  9 10]]\n"
          ]
        }
      ]
    },
    {
      "cell_type": "code",
      "source": [
        "array1 = np.arange(16).reshape(4,4)\n",
        "print(array1)\n",
        "\n",
        "array2 = array1 < 10\n",
        "print(array2)\n",
        "\n",
        "array1[array2] = 100\n",
        "print(array1)"
      ],
      "metadata": {
        "colab": {
          "base_uri": "https://localhost:8080/"
        },
        "id": "wga88qWh2_gW",
        "outputId": "fa091a8f-7443-49ee-ce66-63fea9a63bd6"
      },
      "execution_count": null,
      "outputs": [
        {
          "output_type": "stream",
          "name": "stdout",
          "text": [
            "[[ 0  1  2  3]\n",
            " [ 4  5  6  7]\n",
            " [ 8  9 10 11]\n",
            " [12 13 14 15]]\n",
            "[[ True  True  True  True]\n",
            " [ True  True  True  True]\n",
            " [ True  True False False]\n",
            " [False False False False]]\n",
            "[[100 100 100 100]\n",
            " [100 100 100 100]\n",
            " [100 100  10  11]\n",
            " [ 12  13  14  15]]\n"
          ]
        }
      ]
    },
    {
      "cell_type": "code",
      "source": [
        "array = np.arange(16).reshape(4,4)\n",
        "\n",
        "print(\"최대값 : \", np.max(array))\n",
        "print(\"최소값 : \", np.min(array))\n",
        "print(\"합계 : \", np.sum(array))\n",
        "print(\"평균값 : \", np.mean(array))"
      ],
      "metadata": {
        "colab": {
          "base_uri": "https://localhost:8080/"
        },
        "id": "stTh9AMD4LDu",
        "outputId": "e8cdfd10-d995-4b83-f336-bde9e262a45d"
      },
      "execution_count": null,
      "outputs": [
        {
          "output_type": "stream",
          "name": "stdout",
          "text": [
            "최대값 :  15\n",
            "최소값 :  0\n",
            "합계 :  120\n",
            "평균값 :  7.5\n"
          ]
        }
      ]
    },
    {
      "cell_type": "code",
      "source": [
        "array = np.arange(16).reshape(4,4)\n",
        "\n",
        "print(\"합계 : \", np.sum(array, axis = 0))"
      ],
      "metadata": {
        "colab": {
          "base_uri": "https://localhost:8080/"
        },
        "id": "vtn4t8bx5zNV",
        "outputId": "5390474f-e9c8-42de-da4e-4a9b31db1bc5"
      },
      "execution_count": null,
      "outputs": [
        {
          "output_type": "stream",
          "name": "stdout",
          "text": [
            "합계 :  [24 28 32 36]\n"
          ]
        }
      ]
    },
    {
      "cell_type": "code",
      "source": [
        "# 단일 객체 저장 및 불러오기\n",
        "array = np.arange(0,10)\n",
        "np.save('saved.npy', array)\n"
      ],
      "metadata": {
        "id": "8ESPxVgv6S_1"
      },
      "execution_count": null,
      "outputs": []
    },
    {
      "cell_type": "code",
      "source": [
        "result = np.load('saved.npy')\n",
        "print(result)"
      ],
      "metadata": {
        "colab": {
          "base_uri": "https://localhost:8080/"
        },
        "id": "EM3nuF0A7S4s",
        "outputId": "6ed490b1-defc-49f8-eed9-0c5ee616ec8e"
      },
      "execution_count": null,
      "outputs": [
        {
          "output_type": "stream",
          "name": "stdout",
          "text": [
            "[0 1 2 3 4 5 6 7 8 9]\n"
          ]
        }
      ]
    },
    {
      "cell_type": "code",
      "source": [
        "# 복수 객체 저장 및 불러오기\n",
        "array1 = np.arange(0,10)\n",
        "array2 = np.arange(10,20)\n",
        "np.savez('saved.npz', array1 = array1, array2 = array2)\n",
        "\n",
        "data = np.load('saved.npz')\n",
        "result1 = data['array1']\n",
        "result2 = data['array2']\n",
        "\n",
        "print(result1)\n",
        "print(result2)"
      ],
      "metadata": {
        "colab": {
          "base_uri": "https://localhost:8080/"
        },
        "id": "E5e-c0Pz7bbk",
        "outputId": "2e0333d0-e329-4ec8-fe8a-b9a75adf9d48"
      },
      "execution_count": null,
      "outputs": [
        {
          "output_type": "stream",
          "name": "stdout",
          "text": [
            "[0 1 2 3 4 5 6 7 8 9]\n",
            "[10 11 12 13 14 15 16 17 18 19]\n"
          ]
        }
      ]
    },
    {
      "cell_type": "code",
      "source": [
        "# Numpy 원소 오름차순 정렬\n",
        "array = np.array([5, 9, 10, 3, 1])\n",
        "array.sort()\n",
        "\n",
        "# 내림차순\n",
        "print(array[::-1])"
      ],
      "metadata": {
        "colab": {
          "base_uri": "https://localhost:8080/"
        },
        "id": "CEfVGAsM8kYc",
        "outputId": "0a9941f2-ba0d-4302-bba6-84ee7ea76331"
      },
      "execution_count": null,
      "outputs": [
        {
          "output_type": "stream",
          "name": "stdout",
          "text": [
            "[10  9  5  3  1]\n"
          ]
        }
      ]
    },
    {
      "cell_type": "code",
      "source": [
        "# 각 열을 기준으로 정렬\n",
        "array = np.array([[5, 9, 10, 3, 1],\n",
        "                  [8, 3, 4, 2, 5]])\n",
        "\n",
        "print(array)\n",
        "array.sort(axis = 0)\n",
        "print(array)"
      ],
      "metadata": {
        "colab": {
          "base_uri": "https://localhost:8080/"
        },
        "id": "lpY78wO59D4G",
        "outputId": "48b10707-6ae3-4d52-d7bc-66cb2b2769bb"
      },
      "execution_count": null,
      "outputs": [
        {
          "output_type": "stream",
          "name": "stdout",
          "text": [
            "[[ 5  9 10  3  1]\n",
            " [ 8  3  4  2  5]]\n",
            "[[ 5  3  4  2  1]\n",
            " [ 8  9 10  3  5]]\n"
          ]
        }
      ]
    },
    {
      "cell_type": "code",
      "source": [
        "# 균일한 간격으로 데이터 생성\n",
        "array = np.linspace(0, 10, 5)\n",
        "print(array)"
      ],
      "metadata": {
        "colab": {
          "base_uri": "https://localhost:8080/"
        },
        "id": "kj16ifAS9X-s",
        "outputId": "4d8875f6-2159-436a-c5c3-12d804892693"
      },
      "execution_count": null,
      "outputs": [
        {
          "output_type": "stream",
          "name": "stdout",
          "text": [
            "[ 0.   2.5  5.   7.5 10. ]\n"
          ]
        }
      ]
    },
    {
      "cell_type": "code",
      "source": [
        "# 난수의 재연(실행마다 결과 동일)\n",
        "np.random.seed(7)\n",
        "print(np.random.randint(0, 10, (2, 3)))"
      ],
      "metadata": {
        "colab": {
          "base_uri": "https://localhost:8080/"
        },
        "id": "D5E-jQQb9svs",
        "outputId": "fba4e8cd-bd3e-4dd3-d536-22e7660dfdd3"
      },
      "execution_count": null,
      "outputs": [
        {
          "output_type": "stream",
          "name": "stdout",
          "text": [
            "[[4 9 6]\n",
            " [3 3 7]]\n"
          ]
        }
      ]
    },
    {
      "cell_type": "code",
      "source": [
        "# Numpy 배열 객체 복사\n",
        "array1 = np.arange(0,10)\n",
        "array2 = array1\n",
        "array2[0] = 99\n",
        "print(array1)\n",
        "\n",
        "array1 = np.arange(0, 10)\n",
        "array2 = array1.copy()\n",
        "array2[0] = 99\n",
        "print(array1)"
      ],
      "metadata": {
        "colab": {
          "base_uri": "https://localhost:8080/"
        },
        "id": "IENqLEhQ9_zM",
        "outputId": "62f6905f-3938-4b12-ebbc-6da4ffb0379e"
      },
      "execution_count": null,
      "outputs": [
        {
          "output_type": "stream",
          "name": "stdout",
          "text": [
            "[99  1  2  3  4  5  6  7  8  9]\n",
            "[0 1 2 3 4 5 6 7 8 9]\n"
          ]
        }
      ]
    },
    {
      "cell_type": "code",
      "source": [
        "# 중복된 원소 제거)\n",
        "array = np.array([1, 1, 2, 2, 2, 3, 3, 4])\n",
        "print(np.unique(array))"
      ],
      "metadata": {
        "colab": {
          "base_uri": "https://localhost:8080/"
        },
        "id": "eN3khdBw-VDr",
        "outputId": "e469347a-a027-4ebf-bdde-33a1a575cd50"
      },
      "execution_count": null,
      "outputs": [
        {
          "output_type": "stream",
          "name": "stdout",
          "text": [
            "[1 2 3 4]\n"
          ]
        }
      ]
    }
  ]
}